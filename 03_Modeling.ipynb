{
 "cells": [
  {
   "cell_type": "markdown",
   "id": "d41e13e3-499e-4337-8383-70c29cfcc0ed",
   "metadata": {},
   "source": [
    "# Imports"
   ]
  },
  {
   "cell_type": "code",
   "execution_count": null,
   "id": "65db0b1d-0f58-4e99-bdaa-ca97f2a01395",
   "metadata": {
    "tags": []
   },
   "outputs": [],
   "source": [
    "from sklearn.preprocessing import StandardScaler\n",
    "import pandas as pd\n",
    "from sklearn.model_selection import train_test_split, GridSearchCV, RandomizedSearchCV\n",
    "from sklearn.ensemble import RandomForestClassifier\n",
    "from sklearn.metrics import confusion_matrix, ConfusionMatrixDisplay, recall_score, precision_score, f1_score, RocCurveDisplay, make_scorer\n",
    "from imblearn.over_sampling import RandomOverSampler, SMOTE, ADASYN\n",
    "from imblearn.pipeline import Pipeline\n",
    "from scipy.stats import randint"
   ]
  },
  {
   "cell_type": "markdown",
   "id": "b58b79ad-0ffa-4946-89f8-7910331193a5",
   "metadata": {},
   "source": [
    "# Train/test split"
   ]
  },
  {
   "cell_type": "code",
   "execution_count": 6,
   "id": "4029c54f-3ab3-45ee-8b57-453e51d61788",
   "metadata": {
    "tags": []
   },
   "outputs": [],
   "source": [
    "df = pd.read_csv('./df_final.csv')"
   ]
  },
  {
   "cell_type": "code",
   "execution_count": 8,
   "id": "83a071bd-56b6-48cc-b306-84de698dd321",
   "metadata": {
    "tags": []
   },
   "outputs": [],
   "source": [
    "X = df.drop(columns = 'target_encoded')\n",
    "y = df['target_encoded']"
   ]
  },
  {
   "cell_type": "code",
   "execution_count": 11,
   "id": "79742c50-7452-441a-bcdd-eeea767e7672",
   "metadata": {
    "tags": []
   },
   "outputs": [],
   "source": [
    "X_train, X_test, y_train, y_test = train_test_split(X, y, random_state = 42, stratify = y)"
   ]
  },
  {
   "cell_type": "markdown",
   "id": "18e1e5ec-9b43-4ad1-86b9-93cb8025abf1",
   "metadata": {},
   "source": [
    "# Scale the Data"
   ]
  },
  {
   "cell_type": "code",
   "execution_count": 12,
   "id": "f8433da2-e5cd-4061-92c8-c7e2d3237c5d",
   "metadata": {
    "tags": []
   },
   "outputs": [],
   "source": [
    "sc = StandardScaler()\n",
    "\n",
    "X_train_sc = sc.fit_transform(X_train)\n",
    "\n",
    "X_test_sc = sc.transform(X_test)"
   ]
  },
  {
   "cell_type": "markdown",
   "id": "445a1801-bbc1-433b-a69f-d908cb3d8afd",
   "metadata": {},
   "source": [
    "# Random Forest"
   ]
  },
  {
   "cell_type": "code",
   "execution_count": 101,
   "id": "a3651f5e-4131-4156-a9e1-b902b322f959",
   "metadata": {
    "tags": []
   },
   "outputs": [],
   "source": [
    "class_labels = ['no_award', 'team_1st', 'team_2nd', 'team_3rd']"
   ]
  },
  {
   "cell_type": "code",
   "execution_count": 105,
   "id": "3aada341-7f72-4faf-8548-91f0e020fcf4",
   "metadata": {
    "tags": []
   },
   "outputs": [],
   "source": [
    "def evaluate_model(model, pred, X_train, y_train, X_test, y_test):\n",
    "    # Evaluate the model. We care most about the f1 score based on how imbalanced our classes are.\n",
    "    f1_scores = f1_score(y_test, pred, average = None)\n",
    "    recall_scores = recall_score(y_test, pred, average = None)\n",
    "    precision_scores = precision_score(y_test, pred, average = None)\n",
    "    \n",
    "    print(f'Training Accuracy: {model.score(X_train, y_train)}')\n",
    "    print(f'Testing Accuracy: {model.score(X_test, y_test)}')\n",
    "    \n",
    "    print(f'F1 Score:')\n",
    "    for i, f1 in enumerate(f1_scores):\n",
    "        print(f' {class_labels[i]}: {f1:.4f}')\n",
    "\n",
    "    print(f'Recall Score:')\n",
    "    for i, recall in enumerate(recall_scores):\n",
    "        print(f' {class_labels[i]}: {recall: .4f}')\n",
    "\n",
    "    print(f'Precision Score:')\n",
    "    for i, precision in enumerate(precision_scores):\n",
    "        print(f' {class_labels[i]}: {precision:.4f}')\n",
    "\n",
    "    cmd = ConfusionMatrixDisplay(confusion_matrix=confusion_matrix(y_test, pred),\n",
    "                             display_labels= ['no_award', 'team_1st', 'team_2nd', 'team_3rd'])\n",
    "\n",
    "    cmd.plot();"
   ]
  },
  {
   "cell_type": "code",
   "execution_count": 106,
   "id": "2cea9ef0-c3cf-4780-8b17-49616f38e602",
   "metadata": {
    "tags": []
   },
   "outputs": [
    {
     "name": "stdout",
     "output_type": "stream",
     "text": [
      "Training Accuracy: 1.0\n",
      "Testing Accuracy: 0.9765807962529274\n",
      "F1 Score:\n",
      " no_award: 0.9907\n",
      " team_1st: 0.6789\n",
      " team_2nd: 0.2857\n",
      " team_3rd: 0.0816\n",
      "Recall Score:\n",
      " no_award:  0.9989\n",
      " team_1st:  0.6607\n",
      " team_2nd:  0.2000\n",
      " team_3rd:  0.0455\n",
      "Precision Score:\n",
      " no_award: 0.9827\n",
      " team_1st: 0.6981\n",
      " team_2nd: 0.5000\n",
      " team_3rd: 0.4000\n"
     ]
    },
    {
     "data": {
      "image/png": "[encoded data removed]",
      "text/plain": [
       "<Figure size 640x480 with 2 Axes>"
      ]
     },
     "metadata": {},
     "output_type": "display_data"
    }
   ],
   "source": [
    "rf = RandomForestClassifier(n_estimators=100, random_state=42)\n",
    "rf.fit(X_train_sc, y_train)\n",
    "# Predict on the test data\n",
    "pred = rf.predict(X_test_sc)\n",
    "\n",
    "print(f'\n",
    "evaluate_model(rf, pred, X_train_sc, y_train, X_test_sc, y_test)"
   ]
  },
  {
   "cell_type": "markdown",
   "id": "53a89ca5-1a17-4650-90b7-82250cb0be9e",
   "metadata": {},
   "source": [
    "It looks like our class imbalance is heavily skewing our model. We do a good job of predicting no award but not such a great job of predicting the other classes. Our model is also heavily struggling with false negatives and false positives for most of the all_nba teams."
   ]
  },
  {
   "cell_type": "markdown",
   "id": "96f96b7f-8a0d-496d-a2f4-de502379ee67",
   "metadata": {},
   "source": [
    "# Changing Random Forest Class Weight"
   ]
  },
  {
   "cell_type": "code",
   "execution_count": 107,
   "id": "f56ecdb4-1196-45b3-b95e-18c1e59dd151",
   "metadata": {
    "tags": []
   },
   "outputs": [
    {
     "name": "stdout",
     "output_type": "stream",
     "text": [
      "Training Accuracy: 1.0\n",
      "Testing Accuracy: 0.975729188843943\n",
      "F1 Score:\n",
      " no_award: 0.9902\n",
      " team_1st: 0.6667\n",
      " team_2nd: 0.1892\n",
      " team_3rd: 0.0435\n",
      "Recall Score:\n",
      " no_award:  0.9998\n",
      " team_1st:  0.6071\n",
      " team_2nd:  0.1273\n",
      " team_3rd:  0.0227\n",
      "Precision Score:\n",
      " no_award: 0.9808\n",
      " team_1st: 0.7391\n",
      " team_2nd: 0.3684\n",
      " team_3rd: 0.5000\n"
     ]
    },
    {
     "data": {
      "image/png": "[encoded data removed]",
      "text/plain": [
       "<Figure size 640x480 with 2 Axes>"
      ]
     },
     "metadata": {},
     "output_type": "display_data"
    }
   ],
   "source": [
    "rf = RandomForestClassifier(n_estimators=100, class_weight= 'balanced', random_state=42)\n",
    "rf.fit(X_train_sc, y_train)\n",
    "\n",
    "# Predict on the test data\n",
    "pred = rf.predict(X_test_sc)\n",
    "\n",
    "evaluate_model(rf, pred, X_train_sc, y_train, X_test_sc, y_test)"
   ]
  },
  {
   "cell_type": "markdown",
   "id": "33f6ab5d-dc9c-4f36-a8e8-97bcd71f9c31",
   "metadata": {},
   "source": [
    "Didn't help much. Still misclassifying most classes as no_award."
   ]
  },
  {
   "cell_type": "markdown",
   "id": "7470b8b7-3a9b-411f-a8f1-d51927a595a4",
   "metadata": {},
   "source": [
    "# Over-Sampling"
   ]
  },
  {
   "cell_type": "code",
   "execution_count": 139,
   "id": "3d55c295-ff60-4074-a003-df32a5520bab",
   "metadata": {
    "tags": []
   },
   "outputs": [
    {
     "name": "stderr",
     "output_type": "stream",
     "text": [
      "/Users/eliwinton/anaconda3/lib/python3.11/site-packages/sklearn/model_selection/_validation.py:425: FitFailedWarning: \n",
      "245 fits failed out of a total of 500.\n",
      "The score on these train-test partitions for these parameters will be set to nan.\n",
      "If these failures are not expected, you can try to debug them by setting error_score='raise'.\n",
      "\n",
      "Below are more details about the failures:\n",
      "--------------------------------------------------------------------------------\n",
      "148 fits failed with the following error:\n",
      "Traceback (most recent call last):\n",
      "  File \"/Users/eliwinton/anaconda3/lib/python3.11/site-packages/sklearn/model_selection/_validation.py\", line 732, in _fit_and_score\n",
      "    estimator.fit(X_train, y_train, **fit_params)\n",
      "  File \"/Users/eliwinton/anaconda3/lib/python3.11/site-packages/sklearn/base.py\", line 1151, in wrapper\n",
      "    return fit_method(estimator, *args, **kwargs)\n",
      "           ^^^^^^^^^^^^^^^^^^^^^^^^^^^^^^^^^^^^^^\n",
      "  File \"/Users/eliwinton/anaconda3/lib/python3.11/site-packages/imblearn/pipeline.py\", line 333, in fit\n",
      "    self._final_estimator.fit(Xt, yt, **last_step_params[\"fit\"])\n",
      "  File \"/Users/eliwinton/anaconda3/lib/python3.11/site-packages/sklearn/base.py\", line 1144, in wrapper\n",
      "    estimator._validate_params()\n",
      "  File \"/Users/eliwinton/anaconda3/lib/python3.11/site-packages/sklearn/base.py\", line 637, in _validate_params\n",
      "    validate_parameter_constraints(\n",
      "  File \"/Users/eliwinton/anaconda3/lib/python3.11/site-packages/sklearn/utils/_param_validation.py\", line 95, in validate_parameter_constraints\n",
      "    raise InvalidParameterError(\n",
      "sklearn.utils._param_validation.InvalidParameterError: The 'max_features' parameter of RandomForestClassifier must be an int in the range [1, inf), a float in the range (0.0, 1.0], a str among {'sqrt', 'log2'} or None. Got 'auto' instead.\n",
      "\n",
      "--------------------------------------------------------------------------------\n",
      "97 fits failed with the following error:\n",
      "Traceback (most recent call last):\n",
      "  File \"/Users/eliwinton/anaconda3/lib/python3.11/site-packages/sklearn/model_selection/_validation.py\", line 732, in _fit_and_score\n",
      "    estimator.fit(X_train, y_train, **fit_params)\n",
      "  File \"/Users/eliwinton/anaconda3/lib/python3.11/site-packages/sklearn/base.py\", line 1151, in wrapper\n",
      "    return fit_method(estimator, *args, **kwargs)\n",
      "           ^^^^^^^^^^^^^^^^^^^^^^^^^^^^^^^^^^^^^^\n",
      "  File \"/Users/eliwinton/anaconda3/lib/python3.11/site-packages/imblearn/pipeline.py\", line 333, in fit\n",
      "    self._final_estimator.fit(Xt, yt, **last_step_params[\"fit\"])\n",
      "  File \"/Users/eliwinton/anaconda3/lib/python3.11/site-packages/sklearn/base.py\", line 1144, in wrapper\n",
      "    estimator._validate_params()\n",
      "  File \"/Users/eliwinton/anaconda3/lib/python3.11/site-packages/sklearn/base.py\", line 637, in _validate_params\n",
      "    validate_parameter_constraints(\n",
      "  File \"/Users/eliwinton/anaconda3/lib/python3.11/site-packages/sklearn/utils/_param_validation.py\", line 95, in validate_parameter_constraints\n",
      "    raise InvalidParameterError(\n",
      "sklearn.utils._param_validation.InvalidParameterError: The 'max_features' parameter of RandomForestClassifier must be an int in the range [1, inf), a float in the range (0.0, 1.0], a str among {'log2', 'sqrt'} or None. Got 'auto' instead.\n",
      "\n",
      "  warnings.warn(some_fits_failed_message, FitFailedWarning)\n",
      "/Users/eliwinton/anaconda3/lib/python3.11/site-packages/sklearn/model_selection/_search.py:976: UserWarning: One or more of the test scores are non-finite: [       nan 0.96833487 0.97100404        nan 0.96848647        nan\n",
      " 0.97008707        nan 0.96839655 0.97127603        nan        nan\n",
      "        nan 0.96641104 0.96803784        nan        nan        nan\n",
      "        nan 0.96985056        nan        nan        nan 0.96767673\n",
      "        nan        nan 0.96957799        nan 0.9714244  0.96682153\n",
      "        nan 0.96621336 0.96620449        nan 0.96745002 0.96852963\n",
      " 0.96344683        nan        nan        nan 0.9710754  0.9693975\n",
      " 0.9690835         nan        nan 0.96966713        nan        nan\n",
      "        nan 0.96824588 0.97114856        nan        nan 0.97008978\n",
      " 0.96633997 0.96509308 0.97109907        nan 0.96895278        nan\n",
      "        nan 0.96378614 0.9700761         nan        nan 0.96962181\n",
      " 0.96980622 0.97057203 0.97062184        nan        nan 0.97050136\n",
      " 0.97069859        nan 0.9691827         nan 0.96890816 0.97052778\n",
      " 0.96914361 0.96818284        nan        nan        nan        nan\n",
      " 0.97030019 0.96809087        nan 0.96179911        nan        nan\n",
      " 0.97045585 0.97087699        nan 0.97042859 0.96932964 0.97046178\n",
      "        nan        nan        nan 0.97057168]\n",
      "  warnings.warn(\n"
     ]
    },
    {
     "data": {
      "text/html": [
       "<style>#sk-container-id-10 {color: black;}#sk-container-id-10 pre{padding: 0;}#sk-container-id-10 div.sk-toggleable {background-color: white;}#sk-container-id-10 label.sk-toggleable__label {cursor: pointer;display: block;width: 100%;margin-bottom: 0;padding: 0.3em;box-sizing: border-box;text-align: center;}#sk-container-id-10 label.sk-toggleable__label-arrow:before {content: \"▸\";float: left;margin-right: 0.25em;color: #696969;}#sk-container-id-10 label.sk-toggleable__label-arrow:hover:before {color: black;}#sk-container-id-10 div.sk-estimator:hover label.sk-toggleable__label-arrow:before {color: black;}#sk-container-id-10 div.sk-toggleable__content {max-height: 0;max-width: 0;overflow: hidden;text-align: left;background-color: #f0f8ff;}#sk-container-id-10 div.sk-toggleable__content pre {margin: 0.2em;color: black;border-radius: 0.25em;background-color: #f0f8ff;}#sk-container-id-10 input.sk-toggleable__control:checked~div.sk-toggleable__content {max-height: 200px;max-width: 100%;overflow: auto;}#sk-container-id-10 input.sk-toggleable__control:checked~label.sk-toggleable__label-arrow:before {content: \"▾\";}#sk-container-id-10 div.sk-estimator input.sk-toggleable__control:checked~label.sk-toggleable__label {background-color: #d4ebff;}#sk-container-id-10 div.sk-label input.sk-toggleable__control:checked~label.sk-toggleable__label {background-color: #d4ebff;}#sk-container-id-10 input.sk-hidden--visually {border: 0;clip: rect(1px 1px 1px 1px);clip: rect(1px, 1px, 1px, 1px);height: 1px;margin: -1px;overflow: hidden;padding: 0;position: absolute;width: 1px;}#sk-container-id-10 div.sk-estimator {font-family: monospace;background-color: #f0f8ff;border: 1px dotted black;border-radius: 0.25em;box-sizing: border-box;margin-bottom: 0.5em;}#sk-container-id-10 div.sk-estimator:hover {background-color: #d4ebff;}#sk-container-id-10 div.sk-parallel-item::after {content: \"\";width: 100%;border-bottom: 1px solid gray;flex-grow: 1;}#sk-container-id-10 div.sk-label:hover label.sk-toggleable__label {background-color: #d4ebff;}#sk-container-id-10 div.sk-serial::before {content: \"\";position: absolute;border-left: 1px solid gray;box-sizing: border-box;top: 0;bottom: 0;left: 50%;z-index: 0;}#sk-container-id-10 div.sk-serial {display: flex;flex-direction: column;align-items: center;background-color: white;padding-right: 0.2em;padding-left: 0.2em;position: relative;}#sk-container-id-10 div.sk-item {position: relative;z-index: 1;}#sk-container-id-10 div.sk-parallel {display: flex;align-items: stretch;justify-content: center;background-color: white;position: relative;}#sk-container-id-10 div.sk-item::before, #sk-container-id-10 div.sk-parallel-item::before {content: \"\";position: absolute;border-left: 1px solid gray;box-sizing: border-box;top: 0;bottom: 0;left: 50%;z-index: -1;}#sk-container-id-10 div.sk-parallel-item {display: flex;flex-direction: column;z-index: 1;position: relative;background-color: white;}#sk-container-id-10 div.sk-parallel-item:first-child::after {align-self: flex-end;width: 50%;}#sk-container-id-10 div.sk-parallel-item:last-child::after {align-self: flex-start;width: 50%;}#sk-container-id-10 div.sk-parallel-item:only-child::after {width: 0;}#sk-container-id-10 div.sk-dashed-wrapped {border: 1px dashed gray;margin: 0 0.4em 0.5em 0.4em;box-sizing: border-box;padding-bottom: 0.4em;background-color: white;}#sk-container-id-10 div.sk-label label {font-family: monospace;font-weight: bold;display: inline-block;line-height: 1.2em;}#sk-container-id-10 div.sk-label-container {text-align: center;}#sk-container-id-10 div.sk-container {/* jupyter's `normalize.less` sets `[hidden] { display: none; }` but bootstrap.min.css set `[hidden] { display: none !important; }` so we also need the `!important` here to be able to override the default hidden behavior on the sphinx rendered scikit-learn.org. See: https://github.com/scikit-learn/scikit-learn/issues/21755 */display: inline-block !important;position: relative;}#sk-container-id-10 div.sk-text-repr-fallback {display: none;}</style><div id=\"sk-container-id-10\" class=\"sk-top-container\"><div class=\"sk-text-repr-fallback\"><pre>RandomizedSearchCV(estimator=Pipeline(steps=[(&#x27;ss&#x27;, StandardScaler()),\n",
       "                                             (&#x27;smo&#x27;,\n",
       "                                              SMOTE(random_state=42,\n",
       "                                                    sampling_strategy={0: 18169,\n",
       "                                                                       1: 9000,\n",
       "                                                                       2: 9000,\n",
       "                                                                       3: 9000})),\n",
       "                                             (&#x27;rf&#x27;,\n",
       "                                              RandomForestClassifier(class_weight=&#x27;balance&#x27;,\n",
       "                                                                     random_state=42))]),\n",
       "                   n_iter=100, n_jobs=-1,\n",
       "                   param_distributions={&#x27;rf__bootstrap&#x27;: [True, False],\n",
       "                                        &#x27;rf__class_weight&#x27;: [None, &#x27;balanced&#x27;],\n",
       "                                        &#x27;rf__criterion&#x27;: [&#x27;gin...\n",
       "                                        &#x27;rf__min_samples_leaf&#x27;: &lt;scipy.stats._distn_infrastructure.rv_discrete_frozen object at 0x304f14a10&gt;,\n",
       "                                        &#x27;rf__min_samples_split&#x27;: &lt;scipy.stats._distn_infrastructure.rv_discrete_frozen object at 0x304f15850&gt;,\n",
       "                                        &#x27;rf__n_estimators&#x27;: &lt;scipy.stats._distn_infrastructure.rv_discrete_frozen object at 0x304f148d0&gt;,\n",
       "                                        &#x27;smo__k_neighbors&#x27;: [3, 5, 10]},\n",
       "                   random_state=42, scoring=&#x27;f1_weighted&#x27;)</pre><b>In a Jupyter environment, please rerun this cell to show the HTML representation or trust the notebook. <br />On GitHub, the HTML representation is unable to render, please try loading this page with nbviewer.org.</b></div><div class=\"sk-container\" hidden><div class=\"sk-item sk-dashed-wrapped\"><div class=\"sk-label-container\"><div class=\"sk-label sk-toggleable\"><input class=\"sk-toggleable__control sk-hidden--visually\" id=\"sk-estimator-id-10\" type=\"checkbox\" ><label for=\"sk-estimator-id-10\" class=\"sk-toggleable__label sk-toggleable__label-arrow\">RandomizedSearchCV</label><div class=\"sk-toggleable__content\"><pre>RandomizedSearchCV(estimator=Pipeline(steps=[(&#x27;ss&#x27;, StandardScaler()),\n",
       "                                             (&#x27;smo&#x27;,\n",
       "                                              SMOTE(random_state=42,\n",
       "                                                    sampling_strategy={0: 18169,\n",
       "                                                                       1: 9000,\n",
       "                                                                       2: 9000,\n",
       "                                                                       3: 9000})),\n",
       "                                             (&#x27;rf&#x27;,\n",
       "                                              RandomForestClassifier(class_weight=&#x27;balance&#x27;,\n",
       "                                                                     random_state=42))]),\n",
       "                   n_iter=100, n_jobs=-1,\n",
       "                   param_distributions={&#x27;rf__bootstrap&#x27;: [True, False],\n",
       "                                        &#x27;rf__class_weight&#x27;: [None, &#x27;balanced&#x27;],\n",
       "                                        &#x27;rf__criterion&#x27;: [&#x27;gin...\n",
       "                                        &#x27;rf__min_samples_leaf&#x27;: &lt;scipy.stats._distn_infrastructure.rv_discrete_frozen object at 0x304f14a10&gt;,\n",
       "                                        &#x27;rf__min_samples_split&#x27;: &lt;scipy.stats._distn_infrastructure.rv_discrete_frozen object at 0x304f15850&gt;,\n",
       "                                        &#x27;rf__n_estimators&#x27;: &lt;scipy.stats._distn_infrastructure.rv_discrete_frozen object at 0x304f148d0&gt;,\n",
       "                                        &#x27;smo__k_neighbors&#x27;: [3, 5, 10]},\n",
       "                   random_state=42, scoring=&#x27;f1_weighted&#x27;)</pre></div></div></div><div class=\"sk-parallel\"><div class=\"sk-parallel-item\"><div class=\"sk-item\"><div class=\"sk-label-container\"><div class=\"sk-label sk-toggleable\"><input class=\"sk-toggleable__control sk-hidden--visually\" id=\"sk-estimator-id-11\" type=\"checkbox\" ><label for=\"sk-estimator-id-11\" class=\"sk-toggleable__label sk-toggleable__label-arrow\">estimator: Pipeline</label><div class=\"sk-toggleable__content\"><pre>Pipeline(steps=[(&#x27;ss&#x27;, StandardScaler()),\n",
       "                (&#x27;smo&#x27;,\n",
       "                 SMOTE(random_state=42,\n",
       "                       sampling_strategy={0: 18169, 1: 9000, 2: 9000,\n",
       "                                          3: 9000})),\n",
       "                (&#x27;rf&#x27;,\n",
       "                 RandomForestClassifier(class_weight=&#x27;balance&#x27;,\n",
       "                                        random_state=42))])</pre></div></div></div><div class=\"sk-serial\"><div class=\"sk-item\"><div class=\"sk-serial\"><div class=\"sk-item\"><div class=\"sk-estimator sk-toggleable\"><input class=\"sk-toggleable__control sk-hidden--visually\" id=\"sk-estimator-id-12\" type=\"checkbox\" ><label for=\"sk-estimator-id-12\" class=\"sk-toggleable__label sk-toggleable__label-arrow\">StandardScaler</label><div class=\"sk-toggleable__content\"><pre>StandardScaler()</pre></div></div></div><div class=\"sk-item\"><div class=\"sk-estimator sk-toggleable\"><input class=\"sk-toggleable__control sk-hidden--visually\" id=\"sk-estimator-id-13\" type=\"checkbox\" ><label for=\"sk-estimator-id-13\" class=\"sk-toggleable__label sk-toggleable__label-arrow\">SMOTE</label><div class=\"sk-toggleable__content\"><pre>SMOTE(random_state=42, sampling_strategy={0: 18169, 1: 9000, 2: 9000, 3: 9000})</pre></div></div></div><div class=\"sk-item\"><div class=\"sk-estimator sk-toggleable\"><input class=\"sk-toggleable__control sk-hidden--visually\" id=\"sk-estimator-id-14\" type=\"checkbox\" ><label for=\"sk-estimator-id-14\" class=\"sk-toggleable__label sk-toggleable__label-arrow\">RandomForestClassifier</label><div class=\"sk-toggleable__content\"><pre>RandomForestClassifier(class_weight=&#x27;balance&#x27;, random_state=42)</pre></div></div></div></div></div></div></div></div></div></div></div></div>"
      ],
      "text/plain": [
       "RandomizedSearchCV(estimator=Pipeline(steps=[('ss', StandardScaler()),\n",
       "                                             ('smo',\n",
       "                                              SMOTE(random_state=42,\n",
       "                                                    sampling_strategy={0: 18169,\n",
       "                                                                       1: 9000,\n",
       "                                                                       2: 9000,\n",
       "                                                                       3: 9000})),\n",
       "                                             ('rf',\n",
       "                                              RandomForestClassifier(class_weight='balance',\n",
       "                                                                     random_state=42))]),\n",
       "                   n_iter=100, n_jobs=-1,\n",
       "                   param_distributions={'rf__bootstrap': [True, False],\n",
       "                                        'rf__class_weight': [None, 'balanced'],\n",
       "                                        'rf__criterion': ['gin...\n",
       "                                        'rf__min_samples_leaf': <scipy.stats._distn_infrastructure.rv_discrete_frozen object at 0x304f14a10>,\n",
       "                                        'rf__min_samples_split': <scipy.stats._distn_infrastructure.rv_discrete_frozen object at 0x304f15850>,\n",
       "                                        'rf__n_estimators': <scipy.stats._distn_infrastructure.rv_discrete_frozen object at 0x304f148d0>,\n",
       "                                        'smo__k_neighbors': [3, 5, 10]},\n",
       "                   random_state=42, scoring='f1_weighted')"
      ]
     },
     "execution_count": 139,
     "metadata": {},
     "output_type": "execute_result"
    }
   ],
   "source": [
    "pipe = Pipeline([\n",
    "    ('ss', StandardScaler()),\n",
    "    ('smo', SMOTE(random_state=42, sampling_strategy = {\n",
    "    0: 18169,\n",
    "    1: 9000, \n",
    "    2: 9000,   \n",
    "    3: 9000 \n",
    "})),\n",
    "    ('rf', RandomForestClassifier(random_state=42, class_weight='balance'))])\n",
    "\n",
    "params = {\n",
    "    'smo__k_neighbors': [3, 5, 10],\n",
    "    'rf__n_estimators': randint(100, 501),\n",
    "    'rf__max_depth': [None, 10, 20, 50],\n",
    "    'rf__min_samples_split': randint(2, 11),\n",
    "    'rf__min_samples_leaf': randint(1, 5),\n",
    "    'rf__max_features': ['sqrt', 'log2'],\n",
    "    'rf__class_weight': [None, 'balanced'],\n",
    "    'rf__criterion': ['gini', 'entropy'],\n",
    "    'rf__bootstrap': [True, False]\n",
    "}\n",
    "    \n",
    "grid = RandomizedSearchCV(pipe,\n",
    "                      param_distributions=params,\n",
    "                    n_iter=100,\n",
    "                    scoring = 'f1_weighted',\n",
    "                    n_jobs=-1,\n",
    "                   random_state=42)\n",
    "\n",
    "grid.fit(X_train, y_train)"
   ]
  },
  {
   "cell_type": "code",
   "execution_count": 140,
   "id": "07ef1d47-d172-4afe-b8e7-342da2fbbac6",
   "metadata": {
    "tags": []
   },
   "outputs": [
    {
     "data": {
      "text/plain": [
       "{'rf__bootstrap': False,\n",
       " 'rf__class_weight': 'balanced',\n",
       " 'rf__criterion': 'gini',\n",
       " 'rf__max_depth': None,\n",
       " 'rf__max_features': 'sqrt',\n",
       " 'rf__min_samples_leaf': 1,\n",
       " 'rf__min_samples_split': 2,\n",
       " 'rf__n_estimators': 225,\n",
       " 'smo__k_neighbors': 5}"
      ]
     },
     "execution_count": 140,
     "metadata": {},
     "output_type": "execute_result"
    }
   ],
   "source": [
    "grid.best_params_\n",
    "grid.best_score_"
   ]
  },
  {
   "cell_type": "code",
   "execution_count": null,
   "id": "ec4198e5-b445-45c5-876e-eae7b4761b5a",
   "metadata": {},
   "outputs": [],
   "source": [
    "pipe = Pipeline([\n",
    "    ('ss', StandardScaler()),\n",
    "    ('smo', SMOTE(random_state=42, sampling_strategy = {\n",
    "    0: 18169,\n",
    "    1: 9000, \n",
    "    2: 9000,   \n",
    "    3: 9000 \n",
    "})),\n",
    "    ('rf', RandomForestClassifier(random_state=42, class_weight='balance'))])\n",
    "\n",
    "params = {\n",
    "    'smo__k_neighbors': 5,\n",
    "    'rf__n_estimators': 225,\n",
    "    'rf__max_depth': [None],\n",
    "    'rf__min_samples_split': [1, 2],\n",
    "    'rf__min_samples_leaf': 1,\n",
    "    'rf__max_features': ['sqrt'],\n",
    "    'rf__class_weight': ['balanced'],\n",
    "    'rf__criterion': ['gini'],\n",
    "    'rf__bootstrap': [False]\n",
    "}\n",
    "    \n",
    "grid = RandomizedSearchCV(pipe,\n",
    "                      param_distributions=params,\n",
    "                    n_iter=100,\n",
    "                    scoring = 'f1_weighted',\n",
    "                    n_jobs=-1,\n",
    "                   random_state=42)\n",
    "\n",
    "grid.fit(X_train, y_train)"
   ]
  },
  {
   "cell_type": "code",
   "execution_count": null,
   "id": "0c986da8-9200-4c3d-9b09-781f775e0169",
   "metadata": {
    "tags": []
   },
   "outputs": [],
   "source": [
    "pipe_2 = Pipeline([\n",
    "    ('ss', StandardScaler()),\n",
    "    ('ada', ADASYN(random_state=42, sampling_strategy = {\n",
    "    0: 18169,\n",
    "    1: 9000, \n",
    "    2: 9000,   \n",
    "    3: 9000 \n",
    "})),\n",
    "    ('rf', RandomForestClassifier(random_state=42))])\n",
    "\n",
    "params = {\n",
    "    'ada__n_neighbors': randint(3, 11),\n",
    "    'rf__n_estimators': randint(100, 501),\n",
    "    'rf__max_depth': [None, 10, 20, 50],\n",
    "    'rf__min_samples_split': randint(2, 11),\n",
    "    'rf__min_samples_leaf': randint(1, 5),\n",
    "    'rf__max_features': ['sqrt', 'log2', None],\n",
    "    'rf__class_weight': [None, 'balanced'],\n",
    "    'rf__criterion': ['gini', 'entropy'],\n",
    "    'rf__bootstrap': [True, False]\n",
    "}\n",
    "    \n",
    "grid_2 = RandomizedSearchCV(pipe_2,\n",
    "                      param_distributions=params,\n",
    "                    n_iter=50,\n",
    "                    scoring = 'f1_weighted',\n",
    "                    n_jobs=-1,\n",
    "                    cv=3,\n",
    "                   random_state=42)\n",
    "\n",
    "grid_2.fit(X_train, y_train)"
   ]
  },
  {
   "cell_type": "code",
   "execution_count": null,
   "id": "582c297a-0749-4c68-a405-497015e5ae56",
   "metadata": {
    "tags": []
   },
   "outputs": [],
   "source": [
    "grid_2.best_params_\n",
    "grid_2.best_score_"
   ]
  }
 ],
 "metadata": {
  "kernelspec": {
   "display_name": "Python 3 (ipykernel)",
   "language": "python",
   "name": "python3"
  },
  "language_info": {
   "codemirror_mode": {
    "name": "ipython",
    "version": 3
   },
   "file_extension": ".py",
   "mimetype": "text/x-python",
   "name": "python",
   "nbconvert_exporter": "python",
   "pygments_lexer": "ipython3",
   "version": "3.11.5"
  }
 },
 "nbformat": 4,
 "nbformat_minor": 5
}
